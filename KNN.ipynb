{
 "cells": [
  {
   "cell_type": "markdown",
   "id": "edfeb2c7",
   "metadata": {},
   "source": [
    "## K-Nearest Neighbor algorithm - python code from scratch"
   ]
  },
  {
   "cell_type": "code",
   "execution_count": 1,
   "id": "4667749d",
   "metadata": {},
   "outputs": [],
   "source": [
    "import numpy as np\n",
    "import matplotlib.pyplot as plt"
   ]
  },
  {
   "cell_type": "code",
   "execution_count": 2,
   "id": "ced7d2b2",
   "metadata": {},
   "outputs": [],
   "source": [
    "random_seed = 123"
   ]
  },
  {
   "cell_type": "code",
   "execution_count": 3,
   "id": "d304fc4c",
   "metadata": {},
   "outputs": [],
   "source": [
    "class Knn:\n",
    "    \n",
    "    def __init__(self,n_nearest_neighbors:int):\n",
    "        self.n_nearest_neighbors = n_nearest_neighbors\n",
    "    \n",
    "    def fit(self,X:np.array,y:np.array):\n",
    "        # First step is for KNN is to store input data. No other training is performed. \n",
    "        self.train_data_x = X\n",
    "        self.train_data_y = y\n",
    "        \n",
    "    # Prediction function\n",
    "    def predict(self,test_data_x:np.array):\n",
    "        # Step 1: Get nearest neighbors\n",
    "        top_k_predictions = np.zeros([np.shape(test_data_x)[0],self.n_nearest_neighbors])\n",
    "        row_counter = 0\n",
    "        for each_row in test_data_x:\n",
    "            #Step 1.1: Calculate the Euclidean distance\n",
    "            distance_val = np.sqrt(((each_row - self.train_data_x)**2).sum(axis=1))\n",
    "            \n",
    "            #Step 1.2: Select the K nearest neighbors\n",
    "            row_indices = np.argsort(distance_val)\n",
    "            \n",
    "            top_k_indices = row_indices[0:self.n_nearest_neighbors]\n",
    "\n",
    "            #Step 2:  Get the predictions for each test data based on the nearest neighbors\n",
    "            top_k_predictions[row_counter,:] = self.train_data_y[top_k_indices]\n",
    "            row_counter = row_counter + 1\n",
    "\n",
    "        \n",
    "        #Step 3: Select the label with majority voting\n",
    "        final_predictions = []\n",
    "        for each_row in top_k_predictions:\n",
    "            final_predictions = np.append(final_predictions,np.bincount(each_row.astype(int)).argmax())\n",
    "        return final_predictions\n",
    "        \n",
    "        \n",
    "        "
   ]
  },
  {
   "cell_type": "markdown",
   "id": "c0d08588",
   "metadata": {},
   "source": [
    "#### Additional section"
   ]
  },
  {
   "cell_type": "markdown",
   "id": "4c750e65",
   "metadata": {},
   "source": [
    "## K-Nearest Neighbor algorithm - metrics to assess the model performance (using sklearn)"
   ]
  },
  {
   "cell_type": "code",
   "execution_count": 4,
   "id": "80fd40ac",
   "metadata": {},
   "outputs": [],
   "source": [
    "from sklearn.datasets import make_classification\n",
    "from sklearn.model_selection import train_test_split\n",
    "from sklearn.metrics import confusion_matrix, precision_score, recall_score, accuracy_score, f1_score"
   ]
  },
  {
   "cell_type": "code",
   "execution_count": 5,
   "id": "ce0439f6",
   "metadata": {},
   "outputs": [],
   "source": [
    "# Create synthetic dataset to test knn\n",
    "num_samples = 1000\n",
    "num_features = 4\n",
    "num_classes = 2\n",
    "X, y = make_classification(n_samples = num_samples, n_features =  num_features, n_informative = 4, n_redundant = 0,\n",
    "                           n_classes = num_classes)\n"
   ]
  },
  {
   "cell_type": "code",
   "execution_count": 6,
   "id": "6c7c42f0",
   "metadata": {},
   "outputs": [],
   "source": [
    "train_x, test_x, train_y, test_y = train_test_split(X, y, test_size = 0.2, random_state = random_seed)"
   ]
  },
  {
   "cell_type": "code",
   "execution_count": 7,
   "id": "7706a029",
   "metadata": {},
   "outputs": [],
   "source": [
    "nearest_neighbors_cnt = 5\n",
    "knn_obj = Knn(nearest_neighbors_cnt)\n",
    "knn_obj.fit(train_x,train_y)"
   ]
  },
  {
   "cell_type": "code",
   "execution_count": 8,
   "id": "e92f0bcc",
   "metadata": {},
   "outputs": [],
   "source": [
    "predicted_y = knn_obj.predict(test_x)"
   ]
  },
  {
   "cell_type": "code",
   "execution_count": 9,
   "id": "f751090a",
   "metadata": {},
   "outputs": [
    {
     "name": "stdout",
     "output_type": "stream",
     "text": [
      "[[0.91578947 0.08421053]\n",
      " [0.06666667 0.93333333]]\n"
     ]
    },
    {
     "data": {
      "text/plain": [
       "Text(0, 0.5, 'Actual')"
      ]
     },
     "execution_count": 9,
     "metadata": {},
     "output_type": "execute_result"
    },
    {
     "data": {
      "image/png": "[encoded data removed]",
      "text/plain": [
       "<Figure size 288x288 with 1 Axes>"
      ]
     },
     "metadata": {
      "needs_background": "light"
     },
     "output_type": "display_data"
    }
   ],
   "source": [
    "# Create confusion matrix\n",
    "norm_confusion_mat = confusion_matrix(test_y,predicted_y,normalize='true')\n",
    "print(norm_confusion_mat)\n",
    "\n",
    "# Plot confusion matrix\n",
    "plt.matshow(norm_confusion_mat, cmap='coolwarm')\n",
    "for (i,j), z in np.ndenumerate(norm_confusion_mat):\n",
    "    plt.text(j, i, '{:0.3f}'.format(z), ha='center', va='center', color = 'w')\n",
    "\n",
    "plt.title(\"Normalized Confusion Matrix\")\n",
    "plt.xlabel(\"Predicted\")\n",
    "plt.ylabel(\"Actual\")"
   ]
  },
  {
   "cell_type": "code",
   "execution_count": 10,
   "id": "509ca400",
   "metadata": {},
   "outputs": [
    {
     "name": "stdout",
     "output_type": "stream",
     "text": [
      "precision score is: 0.9245283018867925\n",
      "recall score is: 0.9333333333333333\n"
     ]
    }
   ],
   "source": [
    "# Precision - TP/(TP+FP)\n",
    "precision = precision_score(test_y,predicted_y)\n",
    "print(\"precision score is:\", precision)\n",
    "\n",
    "# Recall (True Positve Rate) - TP/(TP+FN)\n",
    "recall = recall_score(test_y,predicted_y)\n",
    "print(\"recall score is:\", recall)"
   ]
  },
  {
   "cell_type": "code",
   "execution_count": 11,
   "id": "379b30ee",
   "metadata": {},
   "outputs": [
    {
     "name": "stdout",
     "output_type": "stream",
     "text": [
      "accuracy score is: 0.925\n"
     ]
    }
   ],
   "source": [
    "accuracy = accuracy_score(test_y,predicted_y)\n",
    "print(\"accuracy score is:\", accuracy)"
   ]
  },
  {
   "cell_type": "code",
   "execution_count": 13,
   "id": "d046b938",
   "metadata": {},
   "outputs": [
    {
     "name": "stdout",
     "output_type": "stream",
     "text": [
      "f1 score is: 0.9289099526066351\n"
     ]
    }
   ],
   "source": [
    "f1 = f1_score(test_y,predicted_y)\n",
    "print(\"f1 score is:\", f1)"
   ]
  }
 ],
 "metadata": {
  "kernelspec": {
   "display_name": "Python 3 (ipykernel)",
   "language": "python",
   "name": "python3"
  },
  "language_info": {
   "codemirror_mode": {
    "name": "ipython",
    "version": 3
   },
   "file_extension": ".py",
   "mimetype": "text/x-python",
   "name": "python",
   "nbconvert_exporter": "python",
   "pygments_lexer": "ipython3",
   "version": "3.9.7"
  }
 },
 "nbformat": 4,
 "nbformat_minor": 5
}
